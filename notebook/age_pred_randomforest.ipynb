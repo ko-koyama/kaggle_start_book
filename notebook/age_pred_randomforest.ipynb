{
 "cells": [
  {
   "cell_type": "markdown",
   "id": "670f5fd9",
   "metadata": {},
   "source": [
    "# Ageの欠損値データ予測"
   ]
  },
  {
   "cell_type": "markdown",
   "id": "819aca6a",
   "metadata": {},
   "source": [
    "## パッケージの読み込み"
   ]
  },
  {
   "cell_type": "code",
   "execution_count": null,
   "id": "3acae93e",
   "metadata": {},
   "outputs": [],
   "source": [
    "import numpy as np\n",
    "import pandas as pd\n",
    "\n",
    "from sklearn.model_selection import KFold\n",
    "from sklearn.ensemble import RandomForestRegressor\n",
    "import optuna\n",
    "from sklearn.metrics import mean_squared_error\n",
    "from sklearn.metrics import r2_score\n",
    "\n",
    "FOLD = 5\n",
    "OPTUNA_N_TRIALS = 1000\n",
    "SEED = 0"
   ]
  },
  {
   "cell_type": "markdown",
   "id": "103bc45f",
   "metadata": {},
   "source": [
    "## データ読み込み"
   ]
  },
  {
   "cell_type": "code",
   "execution_count": null,
   "id": "e8e64adc",
   "metadata": {},
   "outputs": [],
   "source": [
    "# titanicの教師データ\n",
    "t_train = pd.read_csv('../data/input/train.csv')\n",
    "\n",
    "# titanicデータ\n",
    "t_test = pd.read_csv('../data/input/test.csv')"
   ]
  },
  {
   "cell_type": "code",
   "execution_count": null,
   "id": "80375752",
   "metadata": {},
   "outputs": [],
   "source": [
    "t_train.head()"
   ]
  },
  {
   "cell_type": "code",
   "execution_count": null,
   "id": "07bf7fdc",
   "metadata": {},
   "outputs": [],
   "source": [
    "t_test.head()"
   ]
  },
  {
   "cell_type": "markdown",
   "id": "09335892",
   "metadata": {},
   "source": [
    "## 特徴量エンジニアリング"
   ]
  },
  {
   "cell_type": "code",
   "execution_count": null,
   "id": "3f658ed5",
   "metadata": {},
   "outputs": [],
   "source": [
    "# 教師データとテストデータのconcat\n",
    "data = pd.concat([t_train, t_test], sort=False)"
   ]
  },
  {
   "cell_type": "code",
   "execution_count": null,
   "id": "d1db85b5",
   "metadata": {},
   "outputs": [],
   "source": [
    "# Nameをもとに、敬称を表すTitleを作成\n",
    "# 作成後、ラベルエンコーディングを適用\n",
    "data['Title'] = data['Name'].map(lambda x: x.split(', ')[1].split('. ')[0])\n",
    "data['Title'].replace(['Mlle'], 'Miss', inplace=True)\n",
    "data['Title'].replace(['Ms', 'Mme'], 'Miss', inplace=True)\n",
    "data['Title'].replace(['Capt', 'Col', 'Major', 'Dr', 'Rev'], 'Officer', inplace=True)\n",
    "data['Title'].replace(['Don', 'Lady', 'Sir', 'the Countess', 'Jonkheer', 'Dona'], 'Royalty', inplace=True)\n",
    "data['Title'] = data['Title'].map({'Mr': 0, 'Miss': 1, 'Mrs': 2, 'Master': 3, 'Officer': 4, 'Royalty': 5}).astype(int)"
   ]
  },
  {
   "cell_type": "code",
   "execution_count": null,
   "id": "4de956f2",
   "metadata": {
    "scrolled": true
   },
   "outputs": [],
   "source": [
    "# Sexを0,1に変換\n",
    "data['Sex'].replace(['male', 'female'], [0, 1], inplace = True)"
   ]
  },
  {
   "cell_type": "code",
   "execution_count": null,
   "id": "c383ae7b",
   "metadata": {},
   "outputs": [],
   "source": [
    "# SibSpとParchをもとに、家族の人数を表すFamilySizeを作成\n",
    "data['FamilySize'] = data['SibSp'] + data['Parch'] + 1"
   ]
  },
  {
   "cell_type": "code",
   "execution_count": null,
   "id": "8c9eaa84",
   "metadata": {},
   "outputs": [],
   "source": [
    "# FamilySizeをもとに、同乗した家族がいないことを表すIsAloneを作成\n",
    "data['IsAlone'] = False\n",
    "data.loc[data['FamilySize'] == 1, 'IsAlone'] = True"
   ]
  },
  {
   "cell_type": "code",
   "execution_count": null,
   "id": "2c2af51a",
   "metadata": {},
   "outputs": [],
   "source": [
    "# Ticketをもとに、チケット番号が重複している数を表すTicketCountを作成\n",
    "ticket_count = dict(data['Ticket'].value_counts())\n",
    "data['TicketCount'] = data['Ticket'].map(ticket_count)"
   ]
  },
  {
   "cell_type": "code",
   "execution_count": null,
   "id": "418cb413",
   "metadata": {},
   "outputs": [],
   "source": [
    "# Fareの欠損値フラグを作成\n",
    "data['FareIsNull'] = data['Fare'].isnull()"
   ]
  },
  {
   "cell_type": "code",
   "execution_count": null,
   "id": "b1805234",
   "metadata": {},
   "outputs": [],
   "source": [
    "# Fareの欠損値をPclassごとの平均値で補完\n",
    "data_fare_is_null = data.loc[data['Fare'].isnull(), :]\n",
    "\n",
    "fare_mean_grouped_pclass = data.groupby('Pclass')['Fare'].mean()\n",
    "\n",
    "for pclass, fare_mean in fare_mean_grouped_pclass.items():\n",
    "    data_fare_is_null.loc[data_fare_is_null['Pclass'] == pclass, 'Fare'] = fare_mean\n",
    "    \n",
    "data.loc[data['Fare'].isnull(), :] = data_fare_is_null"
   ]
  },
  {
   "cell_type": "code",
   "execution_count": null,
   "id": "aab73e7f",
   "metadata": {},
   "outputs": [],
   "source": [
    "# Cabinの欠損値フラグを作成\n",
    "data['CabinIsNull'] = data['Cabin'].isnull()"
   ]
  },
  {
   "cell_type": "code",
   "execution_count": null,
   "id": "9bd26cc1",
   "metadata": {},
   "outputs": [],
   "source": [
    "# Cabinをもとに、Cabinの先頭文字を表すCabinInitialsを作成\n",
    "# 作成後、ラベルエンコーディングを適用\n",
    "data['Cabin'] = data['Cabin'].fillna('Unknown')\n",
    "data['CabinInitials'] = data['Cabin'].str[:1]\n",
    "data['CabinInitials'] = data['CabinInitials'].map({'U': 0, 'C': 1, 'B': 2, 'D': 3, 'E': 4, 'A': 5, 'F': 6, 'G': 7, 'T':8}).astype(int)"
   ]
  },
  {
   "cell_type": "code",
   "execution_count": null,
   "id": "fbbbfc86",
   "metadata": {},
   "outputs": [],
   "source": [
    "# Embarkedの欠損値を最頻値で補完\n",
    "# 補完後、ラベルエンコーディングを適用\n",
    "data['Embarked'].fillna(('S'), inplace=True)\n",
    "data['Embarked'] = data['Embarked'].map({'S': 0, 'C': 1, 'Q': 2}).astype(int)"
   ]
  },
  {
   "cell_type": "code",
   "execution_count": null,
   "id": "e45c51f7",
   "metadata": {},
   "outputs": [],
   "source": [
    "# ラベルエンコーディングしたカラムに対してOne-Hotエンコーディングを適用\n",
    "data = pd.get_dummies(data, columns=['Pclass', 'Sex', 'Embarked', 'Title', 'CabinInitials'], drop_first=True)"
   ]
  },
  {
   "cell_type": "code",
   "execution_count": null,
   "id": "f36033e3",
   "metadata": {},
   "outputs": [],
   "source": [
    "# 学習に使用しないカラムを削除\n",
    "delete_columns = ['PassengerId', 'Survived', 'Name', 'Ticket', 'Cabin']\n",
    "data.drop(delete_columns, axis = 1, inplace = True)"
   ]
  },
  {
   "cell_type": "markdown",
   "id": "7bbbe7ae",
   "metadata": {},
   "source": [
    "## 学習・予測"
   ]
  },
  {
   "cell_type": "code",
   "execution_count": null,
   "id": "551c99c1",
   "metadata": {},
   "outputs": [],
   "source": [
    "# 教師データと予測対象データを分割\n",
    "train = data.dropna()\n",
    "test = data.loc[data['Age'].isnull(), :]"
   ]
  },
  {
   "cell_type": "code",
   "execution_count": null,
   "id": "a93d9d4d",
   "metadata": {},
   "outputs": [],
   "source": [
    "# 特徴量と目的変数にデータを分割\n",
    "x_train_all = train.drop('Age', axis = 1).reset_index(drop=True)\n",
    "y_train_all = train['Age'].reset_index(drop=True)\n",
    "x_test = test.drop('Age', axis = 1)"
   ]
  },
  {
   "cell_type": "code",
   "execution_count": null,
   "id": "a4001ae8",
   "metadata": {},
   "outputs": [],
   "source": [
    "# RandomForestで学習・予測\n",
    "kf = KFold(n_splits = FOLD, shuffle = True, random_state = SEED)\n",
    "models = []\n",
    "train_scores = [] # R^2\n",
    "valid_scores = [] # R^2\n",
    "y_preds = []\n",
    "studys = []\n",
    "\n",
    "# 学習\n",
    "for fold, (train_index, valid_index) in enumerate(kf.split(x_train_all)):\n",
    "\n",
    "    # バリデーション（K-fold）\n",
    "    x_train = x_train_all.loc[train_index, :]\n",
    "    x_valid = x_train_all.loc[valid_index, :]\n",
    "    y_train = y_train_all[train_index]\n",
    "    y_valid = y_train_all[valid_index]\n",
    "    \n",
    "    # パラメータ調整\n",
    "    def objective(trial):\n",
    "        model = RandomForestRegressor(\n",
    "            random_state = SEED,\n",
    "            n_estimators = 500,\n",
    "            max_features = trial.suggest_categorical('max_features', ['sqrt','log2', None]),\n",
    "            max_depth = trial.suggest_int('max_depth', 1, 500),\n",
    "            min_samples_split = trial.suggest_int('min_samples_split', 2, 20),\n",
    "            min_samples_leaf = trial.suggest_int('min_samples_leaf', 1, 20)\n",
    "        )\n",
    "        model.fit(x_train, y_train)\n",
    "        \n",
    "        \n",
    "        y_pred_valid = model.predict(x_valid)\n",
    "        score = mean_squared_error(y_valid, y_pred_valid, squared = True) # RMSE\n",
    "        return score\n",
    "    \n",
    "    study = optuna.create_study(sampler = optuna.samplers.RandomSampler(seed = SEED))\n",
    "    study.optimize(objective, n_trials = OPTUNA_N_TRIALS)\n",
    "    \n",
    "    studys.append(study)\n",
    "    \n",
    "    # モデル構築\n",
    "    model = RandomForestRegressor(\n",
    "        random_state = SEED,\n",
    "        n_estimators = 500,\n",
    "        max_features = study.best_params['max_features'],\n",
    "        max_depth = study.best_params['max_depth'],\n",
    "        min_samples_split = study.best_params['min_samples_split'],\n",
    "        min_samples_leaf = study.best_params['min_samples_leaf']\n",
    "    )\n",
    "    model.fit(x_train, y_train)\n",
    "    models.append(model)\n",
    "    \n",
    "    # モデル評価\n",
    "    y_pred_train = model.predict(x_train)\n",
    "    y_pred_valid = model.predict(x_valid)\n",
    "    train_score = r2_score(y_train, y_pred_train) # R^2\n",
    "    valid_score = r2_score(y_valid, y_pred_valid) # R^2\n",
    "    train_scores.append(train_score)\n",
    "    valid_scores.append(valid_score)\n",
    "    \n",
    "    # 予測\n",
    "    y_pred = model.predict(x_test)\n",
    "    y_preds.append(y_pred)\n",
    "    \n",
    "# CVスコアを算出\n",
    "cv_train_score = sum(train_scores) / len(train_scores)\n",
    "cv_valid_score = sum(valid_scores) / len(valid_scores)\n",
    "print('＝＝＝＝＝＝＝＝＝＝')\n",
    "print('CV train score:{}'.format(cv_train_score))\n",
    "print('CV valid score:{}'.format(cv_valid_score))\n",
    "print('＝＝＝＝＝＝＝＝＝＝')\n",
    "\n",
    "# 最終的な予測値を算出\n",
    "y_test = np.zeros(len(x_test))\n",
    "for y_pred in y_preds:\n",
    "    y_test = y_test + y_pred\n",
    "y_test = y_test / FOLD"
   ]
  },
  {
   "cell_type": "code",
   "execution_count": null,
   "id": "617e2154",
   "metadata": {},
   "outputs": [],
   "source": [
    "np.savetxt('../data/output/pred_age.csv', y_test ,delimiter=',')"
   ]
  }
 ],
 "metadata": {
  "kernelspec": {
   "display_name": "Python 3 (ipykernel)",
   "language": "python",
   "name": "python3"
  },
  "language_info": {
   "codemirror_mode": {
    "name": "ipython",
    "version": 3
   },
   "file_extension": ".py",
   "mimetype": "text/x-python",
   "name": "python",
   "nbconvert_exporter": "python",
   "pygments_lexer": "ipython3",
   "version": "3.10.7"
  }
 },
 "nbformat": 4,
 "nbformat_minor": 5
}
