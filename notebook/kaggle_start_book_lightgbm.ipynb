{
 "cells": [
  {
   "cell_type": "markdown",
   "id": "5dd208d1",
   "metadata": {},
   "source": [
    "# Kaggleスタートブック"
   ]
  },
  {
   "cell_type": "markdown",
   "id": "e4b8439b",
   "metadata": {},
   "source": [
    "## パッケージの読み込み"
   ]
  },
  {
   "cell_type": "code",
   "execution_count": null,
   "id": "8e677557",
   "metadata": {
    "scrolled": true
   },
   "outputs": [],
   "source": [
    "import numpy as np\n",
    "import pandas as pd\n",
    "\n",
    "import matplotlib.pyplot as plt\n",
    "import seaborn as sns\n",
    "%matplotlib inline\n",
    "import pandas_profiling\n",
    "\n",
    "from sklearn.model_selection import StratifiedKFold\n",
    "import lightgbm as lgb\n",
    "import optuna\n",
    "from sklearn.metrics import log_loss\n",
    "\n",
    "FOLD = 5\n",
    "OPTUNA_N_TRIALS = 1000\n",
    "SEED = 0"
   ]
  },
  {
   "cell_type": "markdown",
   "id": "c3990e22",
   "metadata": {},
   "source": [
    "## データ読み込み"
   ]
  },
  {
   "cell_type": "code",
   "execution_count": null,
   "id": "801c3781",
   "metadata": {
    "scrolled": true
   },
   "outputs": [],
   "source": [
    "# 教師データ\n",
    "train = pd.read_csv('../data/input/train.csv')\n",
    "\n",
    "# テストデータ\n",
    "test = pd.read_csv('../data/input/test.csv')\n",
    "\n",
    "# サンプル提出データ\n",
    "gender_submission = pd.read_csv('../data/input/gender_submission.csv')"
   ]
  },
  {
   "cell_type": "code",
   "execution_count": null,
   "id": "27fc5708",
   "metadata": {},
   "outputs": [],
   "source": [
    "train.head()"
   ]
  },
  {
   "cell_type": "code",
   "execution_count": null,
   "id": "b099c820",
   "metadata": {},
   "outputs": [],
   "source": [
    "test.head()"
   ]
  },
  {
   "cell_type": "code",
   "execution_count": null,
   "id": "11708a43",
   "metadata": {},
   "outputs": [],
   "source": [
    "gender_submission.head()"
   ]
  },
  {
   "cell_type": "markdown",
   "id": "d7311774",
   "metadata": {},
   "source": [
    "## EDA"
   ]
  },
  {
   "cell_type": "code",
   "execution_count": null,
   "id": "64cbd31d",
   "metadata": {},
   "outputs": [],
   "source": [
    "# 教師データのPandas Profiling\n",
    "# train.profile_report()"
   ]
  },
  {
   "cell_type": "code",
   "execution_count": null,
   "id": "b1477b31",
   "metadata": {},
   "outputs": [],
   "source": [
    "# Pclassと目的変数の関係を可視化\n",
    "sns.countplot(data = train, x = 'Pclass', hue = 'Survived')\n",
    "plt.legend(loc = 'upper right', title = 'Survived')"
   ]
  },
  {
   "cell_type": "code",
   "execution_count": null,
   "id": "8afff8aa",
   "metadata": {},
   "outputs": [],
   "source": [
    "# Nameから抽出したTitleと目的変数の関係を可視化\n",
    "train['Title'] = train['Name'].map(lambda x: x.split(', ')[1].split('. ')[0])\n",
    "train['Title'].replace(['Mlle'], 'Miss', inplace=True)\n",
    "train['Title'].replace(['Ms', 'Mme'], 'Miss', inplace=True)\n",
    "train['Title'].replace(['Capt', 'Col', 'Major', 'Dr', 'Rev'], 'Officer', inplace=True)\n",
    "train['Title'].replace(['Don', 'Lady', 'Sir', 'the Countess', 'Jonkheer'], 'Royalty', inplace=True)\n",
    "sns.countplot(data = train, x = 'Title', hue = 'Survived')\n",
    "plt.legend(loc = 'upper right', title = 'Survived')"
   ]
  },
  {
   "cell_type": "code",
   "execution_count": null,
   "id": "d31b2049",
   "metadata": {
    "scrolled": true
   },
   "outputs": [],
   "source": [
    "# Sexと目的変数の関係を可視化\n",
    "sns.countplot(data = train, x = 'Sex', hue = 'Survived')\n",
    "plt.legend(loc = 'upper right', title = 'Survived')"
   ]
  },
  {
   "cell_type": "code",
   "execution_count": null,
   "id": "fa6a732f",
   "metadata": {
    "scrolled": true
   },
   "outputs": [],
   "source": [
    "# Ageと目的変数の関係を可視化\n",
    "plt.hist(train.loc[train['Survived'] == 0, 'Age'].dropna(), bins = 50, alpha = 0.5, label = '0')\n",
    "plt.hist(train.loc[train['Survived'] == 1, 'Age'].dropna(), bins = 50, alpha = 0.5, label = '1')\n",
    "plt.xlabel('Age')\n",
    "plt.ylabel('count')\n",
    "plt.legend(loc = 'upper right', title = 'Survived')"
   ]
  },
  {
   "cell_type": "code",
   "execution_count": null,
   "id": "62da7268",
   "metadata": {
    "scrolled": true
   },
   "outputs": [],
   "source": [
    "# SibSpと目的変数の関係を可視化\n",
    "sns.countplot(data = train, x = 'SibSp', hue = 'Survived')\n",
    "plt.legend(loc = 'upper right', title = 'Survived')"
   ]
  },
  {
   "cell_type": "code",
   "execution_count": null,
   "id": "e48555c4",
   "metadata": {},
   "outputs": [],
   "source": [
    "# Parchと目的変数の関係を可視化\n",
    "sns.countplot(data = train, x = 'Parch', hue = 'Survived')\n",
    "plt.legend(loc = 'upper right', title = 'Survived')"
   ]
  },
  {
   "cell_type": "code",
   "execution_count": null,
   "id": "7f9375e6",
   "metadata": {},
   "outputs": [],
   "source": [
    "# SibSpとParchをもとに作成したFamilySizeと目的変数の関係を可視化\n",
    "train['FamilySize'] = train['SibSp'] + train['Parch'] + 1\n",
    "sns.countplot(data = train, x = 'FamilySize', hue = 'Survived')\n",
    "plt.legend(loc = 'upper right', title = 'Survived')"
   ]
  },
  {
   "cell_type": "code",
   "execution_count": null,
   "id": "a403b637",
   "metadata": {},
   "outputs": [],
   "source": [
    "# チケットの重複数と目的変数の関係を可視化\n",
    "ticket_count = dict(train['Ticket'].value_counts())\n",
    "train['TicketCount'] = train['Ticket'].map(ticket_count)\n",
    "sns.countplot(data = train, x = 'TicketCount', hue = 'Survived')\n",
    "plt.legend(loc = 'upper right', title = 'Survived')"
   ]
  },
  {
   "cell_type": "code",
   "execution_count": null,
   "id": "69246221",
   "metadata": {},
   "outputs": [],
   "source": [
    "# Fareと目的変数の関係を可視化\n",
    "plt.hist(train.loc[train['Survived'] == 0, 'Fare'].dropna(), bins = 15, alpha = 0.5, label = '0')\n",
    "plt.hist(train.loc[train['Survived'] == 1, 'Fare'].dropna(), bins = 15, alpha = 0.5, label = '1')\n",
    "plt.xlabel('Fare')\n",
    "plt.ylabel('count')\n",
    "plt.legend(loc = 'upper right', title = 'Survived')"
   ]
  },
  {
   "cell_type": "code",
   "execution_count": null,
   "id": "080ad0ab",
   "metadata": {},
   "outputs": [],
   "source": [
    "# Cabinの欠損有無と目的変数の関係を可視化\n",
    "train['CabinIsNull'] = train['Cabin'].isnull()\n",
    "sns.countplot(data = train, x = 'CabinIsNull', hue = 'Survived')\n",
    "plt.legend(loc = 'upper right', title = 'Survived')"
   ]
  },
  {
   "cell_type": "code",
   "execution_count": null,
   "id": "37f7874f",
   "metadata": {},
   "outputs": [],
   "source": [
    "# Cabinの先頭文字と目的変数の関係を可視化\n",
    "train['Cabin'] = train['Cabin'].fillna('Unknown')\n",
    "train['CabinInitials'] = train['Cabin'].str[:1]\n",
    "sns.countplot(data = train, x = 'CabinInitials', hue = 'Survived')\n",
    "plt.legend(loc = 'upper right', title = 'Survived')"
   ]
  },
  {
   "cell_type": "code",
   "execution_count": null,
   "id": "422535d1",
   "metadata": {},
   "outputs": [],
   "source": [
    "# Embarkedと目的変数の関係を可視化\n",
    "sns.countplot(data = train, x = 'Embarked', hue = 'Survived')\n",
    "plt.legend(loc = 'upper right', title = 'Survived')"
   ]
  },
  {
   "cell_type": "markdown",
   "id": "0f12f3c4",
   "metadata": {},
   "source": [
    "## 特徴量エンジニアリング"
   ]
  },
  {
   "cell_type": "code",
   "execution_count": null,
   "id": "986f2c63",
   "metadata": {},
   "outputs": [],
   "source": [
    "# 教師データとテストデータのconcat\n",
    "data = pd.concat([train, test], sort=False)"
   ]
  },
  {
   "cell_type": "code",
   "execution_count": null,
   "id": "3dd4ed32",
   "metadata": {},
   "outputs": [],
   "source": [
    "# 全データのPandas Profiling\n",
    "# data.profile_report()"
   ]
  },
  {
   "cell_type": "code",
   "execution_count": null,
   "id": "1e516233",
   "metadata": {},
   "outputs": [],
   "source": [
    "# Nameをもとに、敬称を表すTitleを作成\n",
    "# 作成後、ラベルエンコーディングを適用\n",
    "data['Title'] = data['Name'].map(lambda x: x.split(', ')[1].split('. ')[0])\n",
    "data['Title'].replace(['Mlle'], 'Miss', inplace=True)\n",
    "data['Title'].replace(['Ms', 'Mme'], 'Miss', inplace=True)\n",
    "data['Title'].replace(['Capt', 'Col', 'Major', 'Dr', 'Rev'], 'Officer', inplace=True)\n",
    "data['Title'].replace(['Don', 'Lady', 'Sir', 'the Countess', 'Jonkheer', 'Dona'], 'Royalty', inplace=True)\n",
    "data['Title'].replace(['Mr', 'Miss', 'Mrs', 'Master', 'Officer', 'Royalty'], [0, 1, 2, 3, 4, 5], inplace = True)"
   ]
  },
  {
   "cell_type": "code",
   "execution_count": null,
   "id": "e4c06a70",
   "metadata": {},
   "outputs": [],
   "source": [
    "# Sexにラベルエンコーディングを適用\n",
    "data['Sex'].replace(['male', 'female'], [0, 1], inplace = True)"
   ]
  },
  {
   "cell_type": "code",
   "execution_count": null,
   "id": "a62bc070",
   "metadata": {},
   "outputs": [],
   "source": [
    "# Ageの欠損値フラグを作成\n",
    "data['AgeIsNull'] = data['Age'].isnull()"
   ]
  },
  {
   "cell_type": "code",
   "execution_count": null,
   "id": "c20c344a",
   "metadata": {
    "scrolled": true
   },
   "outputs": [],
   "source": [
    "# Ageの欠損値をRandomForestで予測した結果を補完\n",
    "age_pred = np.loadtxt('../data/output/pred_age.csv', delimiter=',')\n",
    "data.loc[data['Age'].isnull(), 'Age'] = age_pred"
   ]
  },
  {
   "cell_type": "code",
   "execution_count": null,
   "id": "18962735",
   "metadata": {},
   "outputs": [],
   "source": [
    "# AgeとSexをもとに、16歳以上の男性、15歳以下の女性をそれぞれ表すIsGrownMan、IsLittleGirlを作成\n",
    "data['IsGrownMan'] = (data['Age'] >= 16) & (data['Sex'] == 0)\n",
    "data['IsLittleGirl'] = (data['Age'] < 16) & (data['Sex'] == 1)"
   ]
  },
  {
   "cell_type": "code",
   "execution_count": null,
   "id": "682756b9",
   "metadata": {},
   "outputs": [],
   "source": [
    "# SibSpとParchをもとに、家族の人数を表すFamilySizeを作成\n",
    "data['FamilySize'] = data['SibSp'] + data['Parch'] + 1"
   ]
  },
  {
   "cell_type": "code",
   "execution_count": null,
   "id": "15458d83",
   "metadata": {},
   "outputs": [],
   "source": [
    "# FamilySizeをもとに、家族サイズをクラス分けしたFamilyClassを作成\n",
    "data['FamilyClass'] = 0\n",
    "data.loc[(data['FamilySize'] >= 2) & (data['FamilySize'] <= 4), 'FamilyClass'] = 1\n",
    "data.loc[(data['FamilySize'] >= 5) & (data['FamilySize'] <= 7), 'FamilyClass'] = 2\n",
    "data.loc[data['FamilySize'] >= 8, 'FamilyClass'] = 3"
   ]
  },
  {
   "cell_type": "code",
   "execution_count": null,
   "id": "8b89d3df",
   "metadata": {},
   "outputs": [],
   "source": [
    "# FamilySizeをもとに、同乗した家族がいないことを表すIsAloneを作成\n",
    "data['IsAlone'] = False\n",
    "data.loc[data['FamilySize'] == 1, 'IsAlone'] = True"
   ]
  },
  {
   "cell_type": "code",
   "execution_count": null,
   "id": "1f9be681",
   "metadata": {},
   "outputs": [],
   "source": [
    "# Ticketをもとに、チケット番号が重複している数を表すTicketCountを作成\n",
    "ticket_count = dict(data['Ticket'].value_counts())\n",
    "data['TicketCount'] = data['Ticket'].map(ticket_count)"
   ]
  },
  {
   "cell_type": "code",
   "execution_count": null,
   "id": "6eddb1d4",
   "metadata": {},
   "outputs": [],
   "source": [
    "# Fareの欠損値フラグを作成\n",
    "data['FareIsNull'] = data['Fare'].isnull()"
   ]
  },
  {
   "cell_type": "code",
   "execution_count": null,
   "id": "2e92eb60",
   "metadata": {},
   "outputs": [],
   "source": [
    "# Fareの欠損値をPclassごとの平均値で補完\n",
    "data_fare_is_null = data.loc[data['Fare'].isnull(), :]\n",
    "\n",
    "fare_mean_grouped_pclass = data.groupby('Pclass')['Fare'].mean()\n",
    "\n",
    "for pclass, fare_mean in fare_mean_grouped_pclass.items():\n",
    "    data_fare_is_null.loc[data_fare_is_null['Pclass'] == pclass, 'Fare'] = fare_mean\n",
    "    \n",
    "data.loc[data['Fare'].isnull(), :] = data_fare_is_null"
   ]
  },
  {
   "cell_type": "code",
   "execution_count": null,
   "id": "b34af5ef",
   "metadata": {},
   "outputs": [],
   "source": [
    "# Cabinの欠損値フラグを作成\n",
    "data['CabinIsNull'] = data['Cabin'].isnull()"
   ]
  },
  {
   "cell_type": "code",
   "execution_count": null,
   "id": "62dd26f4",
   "metadata": {},
   "outputs": [],
   "source": [
    "# Cabinをもとに、Cabinの先頭文字を表すCabinInitialsを作成\n",
    "# 作成後、ラベルエンコーディングを適用\n",
    "data['Cabin'] = data['Cabin'].fillna('Unknown')\n",
    "data['CabinInitials'] = data['Cabin'].str[:1]\n",
    "data['CabinInitials'].replace(['U', 'A', 'B', 'C', 'D', 'E', 'F', 'G', 'T'], [0, 1, 2, 3, 4, 5, 6, 7, 8], inplace = True)"
   ]
  },
  {
   "cell_type": "code",
   "execution_count": null,
   "id": "7f36315e",
   "metadata": {},
   "outputs": [],
   "source": [
    "# Embarkedの欠損値を最頻値で補完\n",
    "# 補完後、ラベルエンコーディングを適用\n",
    "data['Embarked'].fillna(('S'), inplace=True)\n",
    "data['Embarked'].replace(['S', 'C', 'Q'], [0, 1, 2], inplace = True)"
   ]
  },
  {
   "cell_type": "code",
   "execution_count": null,
   "id": "d5bc4251",
   "metadata": {},
   "outputs": [],
   "source": [
    "# 学習に使用しないカラムを削除\n",
    "# 特徴量重要度を踏まえ削除する場合は、extendで加える\n",
    "delete_columns = ['PassengerId', 'Name', 'Ticket', 'Cabin']\n",
    "delete_columns.extend(['FamilyClass', 'CabinIsNull', 'FareIsNull', 'IsLittleGirl'])\n",
    "data.drop(delete_columns, axis = 1, inplace = True)"
   ]
  },
  {
   "cell_type": "code",
   "execution_count": null,
   "id": "faf4ec9b",
   "metadata": {},
   "outputs": [],
   "source": [
    "# 特徴量エンジニアリングの結果を教師データ、テストデータに反映\n",
    "train = data[:len(train)]\n",
    "test = data[len(train):]"
   ]
  },
  {
   "cell_type": "markdown",
   "id": "9cd3c62d",
   "metadata": {},
   "source": [
    "## 学習・予測"
   ]
  },
  {
   "cell_type": "code",
   "execution_count": null,
   "id": "a9a30836",
   "metadata": {},
   "outputs": [],
   "source": [
    "# 特徴量と目的変数にデータを分割\n",
    "x_train_all = train.drop('Survived', axis=1)\n",
    "y_train_all = train['Survived']\n",
    "x_test = test.drop('Survived', axis=1)"
   ]
  },
  {
   "cell_type": "code",
   "execution_count": null,
   "id": "a7a9578e",
   "metadata": {
    "scrolled": true
   },
   "outputs": [],
   "source": [
    "# lightGBMで学習・予測\n",
    "kf = StratifiedKFold(n_splits = FOLD, shuffle = True, random_state = SEED)\n",
    "models = []\n",
    "train_scores = []\n",
    "valid_scores = []\n",
    "cols = list(x_train_all.columns)\n",
    "importances = pd.DataFrame(columns = cols)\n",
    "y_preds = []\n",
    "studys = []\n",
    "\n",
    "# カテゴリ変数を指定\n",
    "categorical_features = ['Pclass', 'Sex', 'Embarked', 'Title', 'CabinInitials']\n",
    "\n",
    "# 学習\n",
    "for fold, (train_index, valid_index) in enumerate(kf.split(x_train_all, y_train_all)):\n",
    "    \n",
    "    # バリデーション（K-fold）\n",
    "    x_train = x_train_all.loc[train_index, :]\n",
    "    x_valid = x_train_all.loc[valid_index, :]\n",
    "    y_train = y_train_all[train_index]\n",
    "    y_valid = y_train_all[valid_index]\n",
    "    \n",
    "    lgb_train = lgb.Dataset(x_train, y_train, categorical_feature = categorical_features, free_raw_data=False)\n",
    "    lgb_valid = lgb.Dataset(x_valid, y_valid, categorical_feature = categorical_features, free_raw_data=False)\n",
    "    \n",
    "    # パラメータ調整\n",
    "    def objective(trial):\n",
    "        params = {\n",
    "            'objective': 'binary',\n",
    "            'learning_rate': 0.01,\n",
    "            'num_leaves': trial.suggest_int('num_leaves', 2, 128),\n",
    "            'max_bin': trial.suggest_int('max_bin', 200, 500)\n",
    "        }\n",
    "\n",
    "        model = lgb.train(\n",
    "            params = params,\n",
    "            train_set = lgb_train,\n",
    "            valid_sets = [lgb_train, lgb_valid],\n",
    "            num_boost_round = 1000,\n",
    "            early_stopping_rounds = 10,\n",
    "            verbose_eval = 10\n",
    "        )\n",
    "   \n",
    "        y_pred_valid = model.predict(x_valid, num_iteration = model.best_iteration)\n",
    "        score = log_loss(y_valid, y_pred_valid)\n",
    "        return score\n",
    "\n",
    "    study = optuna.create_study(sampler = optuna.samplers.RandomSampler(seed = SEED))\n",
    "    study.optimize(objective, n_trials = OPTUNA_N_TRIALS)\n",
    "    \n",
    "    studys.append(study)\n",
    "    \n",
    "    # パラメータ設定\n",
    "    params = {\n",
    "        'objective': 'binary',\n",
    "        'learning_rate': 0.01,\n",
    "        'num_leaves': study.best_params['num_leaves'],\n",
    "        'max_bin': study.best_params['max_bin']\n",
    "    }\n",
    "    \n",
    "    # モデル構築\n",
    "    model = lgb.train(\n",
    "        params = params,\n",
    "        train_set = lgb_train,\n",
    "        valid_sets = [lgb_train, lgb_valid],\n",
    "        num_boost_round = 1000,\n",
    "        early_stopping_rounds = 1,\n",
    "        verbose_eval = 10\n",
    "    )\n",
    "    models.append(model)\n",
    "    \n",
    "    # モデル評価\n",
    "    y_pred_train = model.predict(x_train, num_iteration = model.best_iteration)\n",
    "    y_pred_valid = model.predict(x_valid, num_iteration = model.best_iteration)\n",
    "    train_score = log_loss(y_train, y_pred_train)\n",
    "    valid_score = log_loss(y_valid, y_pred_valid)\n",
    "    train_scores.append(train_score)\n",
    "    valid_scores.append(valid_score)\n",
    "\n",
    "    # 特徴量の重要度\n",
    "    f_importance = np.array(model.feature_importance())\n",
    "    f_importance = f_importance / np.sum(f_importance)\n",
    "    df_importance = pd.DataFrame(data = [f_importance], index = [fold], columns = cols)\n",
    "    importances = pd.concat([importances, df_importance], axis=0)\n",
    "    \n",
    "    # 予測\n",
    "    y_pred = model.predict(x_test, num_iteration = model.best_iteration)\n",
    "    y_preds.append(y_pred)\n",
    "    \n",
    "# CVスコアを算出\n",
    "cv_train_score = sum(train_scores) / len(train_scores)\n",
    "cv_valid_score = sum(valid_scores) / len(valid_scores)\n",
    "print('＝＝＝＝＝＝＝＝＝＝')\n",
    "print('CV train score:{}'.format(cv_train_score))\n",
    "print('CV valid score:{}'.format(cv_valid_score))\n",
    "print('＝＝＝＝＝＝＝＝＝＝')\n",
    "\n",
    "# 提出する予測値を算出\n",
    "y_sub = sum(y_preds) / len(y_preds)\n",
    "y_sub = (y_sub > 0.5).astype(int)"
   ]
  },
  {
   "cell_type": "code",
   "execution_count": null,
   "id": "95e83c81",
   "metadata": {
    "scrolled": true
   },
   "outputs": [],
   "source": [
    "# 各バリデーションでの特徴量重要度を合算（必要に応じて特徴量削減に利用）\n",
    "sum_importance = importances.sum()\n",
    "sum_importance = sum_importance.sort_values(ascending = False)\n",
    "display(sum_importance)"
   ]
  },
  {
   "cell_type": "markdown",
   "id": "27f86be6",
   "metadata": {},
   "source": [
    "## データ出力"
   ]
  },
  {
   "cell_type": "code",
   "execution_count": null,
   "id": "a1a347ad",
   "metadata": {},
   "outputs": [],
   "source": [
    "# 提出データ出力\n",
    "sub = pd.read_csv('../data/input/gender_submission.csv')\n",
    "sub['Survived'] = y_sub\n",
    "sub.to_csv('../data/output/submission_lightgbm.csv', index = False)"
   ]
  }
 ],
 "metadata": {
  "kernelspec": {
   "display_name": "Python 3 (ipykernel)",
   "language": "python",
   "name": "python3"
  },
  "language_info": {
   "codemirror_mode": {
    "name": "ipython",
    "version": 3
   },
   "file_extension": ".py",
   "mimetype": "text/x-python",
   "name": "python",
   "nbconvert_exporter": "python",
   "pygments_lexer": "ipython3",
   "version": "3.10.7"
  }
 },
 "nbformat": 4,
 "nbformat_minor": 5
}
